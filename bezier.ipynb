{
 "cells": [
  {
   "cell_type": "code",
   "execution_count": 51,
   "metadata": {},
   "outputs": [],
   "source": [
    "import numpy as np\n",
    "import matplotlib.pyplot as plt\n",
    "import sympy as sp"
   ]
  },
  {
   "cell_type": "code",
   "execution_count": 52,
   "metadata": {},
   "outputs": [],
   "source": [
    "\"\"\"\n",
    "三阶贝塞尔曲线\n",
    "输入:\n",
    "    p0, p1, p2, p3 为 点坐标,tuple、list或numpy.ndarray类型\n",
    "    inserted 为 p0和p3之间插值的数量\n",
    "\"\"\"\n",
    "def bezier_curve(p0, p1, p2, p3, inserted):\n",
    "    \n",
    "    assert isinstance(p0, (tuple, list, np.ndarray))\n",
    "    assert isinstance(p0, (tuple, list, np.ndarray))\n",
    "    assert isinstance(p0, (tuple, list, np.ndarray))\n",
    "    assert isinstance(p0, (tuple, list, np.ndarray))\n",
    "\n",
    "    if isinstance(p0, (tuple, list)):\n",
    "        p0 = np.array(p0)\n",
    "    if isinstance(p1, (tuple, list)):\n",
    "        p1 = np.array(p1)\n",
    "    if isinstance(p2, (tuple, list)):\n",
    "        p2 = np.array(p2)\n",
    "    if isinstance(p3, (tuple, list)):\n",
    "        p3 = np.array(p3)\n",
    "\n",
    "    points = list()\n",
    "    for t in np.linspace(0, 1, inserted + 2):\n",
    "        # 三阶贝塞尔曲线计算公式\n",
    "        points.append(p0 * np.power((1 - t), 3) + 3 * p1 * t * np.power((1 - t), 2) + 3 * p2 * (1 - t) * np.power(t, 2) + p3 * np.power(t, 3))\n",
    "\n",
    "    return np.vstack(points)"
   ]
  },
  {
   "cell_type": "code",
   "execution_count": 53,
   "metadata": {},
   "outputs": [],
   "source": [
    "\"\"\"\n",
    "基于三阶贝塞尔曲线的数据平滑算法\n",
    "输入:\n",
    "    date_x 为 x维度数据集,list或numpy.ndarray类型\n",
    "    date_y 为 y维度数据集,list或numpy.ndarray类型\n",
    "    k 为 调整平滑曲线形状的因子,取值一般在0.2~0.6之间。默认值为0.5\n",
    "    inserted 为 两个原始数据点之间插值的数量。默认值为100\n",
    "    closed 为 曲线是否封闭,如是,则首尾相连。默认曲线不封闭\n",
    "\"\"\"\n",
    "def smoothing_base_bezier(date_x, date_y, k=0.5, inserted=100, closed=False):\n",
    "\n",
    "    assert isinstance(date_x, (list, np.ndarray))\n",
    "    assert isinstance(date_y, (list, np.ndarray))\n",
    "\n",
    "    if isinstance(date_x, list) and isinstance(date_y, list):\n",
    "        assert len(date_x) == len(date_y), u'x数据集和y数据集长度不匹配'\n",
    "        date_x = np.array(date_x)\n",
    "        date_y = np.array(date_y)\n",
    "    elif isinstance(date_x, np.ndarray) and isinstance(date_y, np.ndarray):\n",
    "        assert date_x.shape == date_y.shape, u'x数据集和y数据集长度不匹配'\n",
    "    else:\n",
    "        raise Exception(u'x数据集或y数据集类型错误')\n",
    "\n",
    "    # 第1步：生成原始数据折线中点集\n",
    "    mid_points = list()\n",
    "    for i in range(1, date_x.shape[0]):\n",
    "        mid_points.append({\n",
    "            'start': (date_x[i - 1], date_y[i - 1]),\n",
    "            'end': (date_x[i], date_y[i]),\n",
    "            'mid': ((date_x[i] + date_x[i - 1]) / 2.0, (date_y[i] + date_y[i - 1]) / 2.0)\n",
    "        })\n",
    "\n",
    "    if closed:\n",
    "        mid_points.append({\n",
    "            'start': (date_x[-1], date_y[-1]),\n",
    "            'end': (date_x[0], date_y[0]),\n",
    "            'mid': ((date_x[0] + date_x[-1]) / 2.0, (date_y[0] + date_y[-1]) / 2.0)\n",
    "        })\n",
    "\n",
    "    # 第2步：找出中点连线及其分割点\n",
    "    split_points = list()\n",
    "    for i in range(len(mid_points)):\n",
    "        if i < (len(mid_points) - 1):\n",
    "            j = i + 1\n",
    "        elif closed:\n",
    "            j = 0\n",
    "        else:\n",
    "            continue\n",
    "\n",
    "        x00, y00 = mid_points[i]['start']\n",
    "        x01, y01 = mid_points[i]['end']\n",
    "        x10, y10 = mid_points[j]['start']\n",
    "        x11, y11 = mid_points[j]['end']\n",
    "        d0 = np.sqrt(np.power((x00 - x01), 2) + np.power((y00 - y01), 2))\n",
    "        d1 = np.sqrt(np.power((x10 - x11), 2) + np.power((y10 - y11), 2))\n",
    "        k_split = 1.0 * d0 / (d0 + d1)\n",
    "\n",
    "        mx0, my0 = mid_points[i]['mid']\n",
    "        mx1, my1 = mid_points[j]['mid']\n",
    "\n",
    "        split_points.append({\n",
    "            'start': (mx0, my0),\n",
    "            'end': (mx1, my1),\n",
    "            'split': (mx0 + (mx1 - mx0) * k_split, my0 + (my1 - my0) * k_split)\n",
    "        })\n",
    "\n",
    "    # 第3步：平移中点连线，调整端点，生成控制点\n",
    "    crt_points = list()\n",
    "    for i in range(len(split_points)):\n",
    "        vx, vy = mid_points[i]['end']  # 当前顶点的坐标\n",
    "        dx = vx - split_points[i]['split'][0]  # 平移线段x偏移量\n",
    "        dy = vy - split_points[i]['split'][1]  # 平移线段y偏移量\n",
    "\n",
    "        sx, sy = split_points[i]['start'][0] + dx, split_points[i]['start'][1] + dy  # 平移后线段起点坐标\n",
    "        ex, ey = split_points[i]['end'][0] + dx, split_points[i]['end'][1] + dy  # 平移后线段终点坐标\n",
    "\n",
    "        cp0 = sx + (vx - sx) * k, sy + (vy - sy) * k  # 控制点坐标\n",
    "        cp1 = ex + (vx - ex) * k, ey + (vy - ey) * k  # 控制点坐标\n",
    "\n",
    "        if crt_points:\n",
    "            crt_points[-1].insert(2, cp0)\n",
    "        else:\n",
    "            crt_points.append([mid_points[0]['start'], cp0, mid_points[0]['end']])\n",
    "\n",
    "        if closed:\n",
    "            if i < (len(mid_points) - 1):\n",
    "                crt_points.append([mid_points[i + 1]['start'], cp1, mid_points[i + 1]['end']])\n",
    "            else:\n",
    "                crt_points[0].insert(1, cp1)\n",
    "        else:\n",
    "            if i < (len(mid_points) - 2):\n",
    "                crt_points.append([mid_points[i + 1]['start'], cp1, mid_points[i + 1]['end']])\n",
    "            else:\n",
    "                crt_points.append([mid_points[i + 1]['start'], cp1, mid_points[i + 1]['end'], mid_points[i + 1]['end']])\n",
    "                crt_points[0].insert(1, mid_points[0]['start'])\n",
    "\n",
    "    # 第4步：应用贝塞尔曲线方程插值\n",
    "    out = list()\n",
    "    for item in crt_points:\n",
    "        group = bezier_curve(item[0], item[1], item[2], item[3], inserted)\n",
    "        out.append(group[:-1])\n",
    "\n",
    "    out.append(group[-1:])\n",
    "    out = np.vstack(out)\n",
    "\n",
    "    return out.T[0], out.T[1], crt_points"
   ]
  },
  {
   "cell_type": "code",
   "execution_count": 54,
   "metadata": {},
   "outputs": [],
   "source": [
    "'''\n",
    "求导函数\n",
    "'''\n",
    "def dB(y_l, y_r, x_l, x_r):\n",
    "    k = (y_l - y_r) / (x_l - x_r)\n",
    "    \n",
    "    return k"
   ]
  },
  {
   "attachments": {},
   "cell_type": "markdown",
   "metadata": {},
   "source": [
    "验证函数1: 一元多次方程\n",
    "$$y=0.02x^4+3x^3+8x^2+7x$$"
   ]
  },
  {
   "cell_type": "code",
   "execution_count": 55,
   "metadata": {},
   "outputs": [
    {
     "name": "stderr",
     "output_type": "stream",
     "text": [
      "No artists with labels found to put in legend.  Note that artists whose label start with an underscore are ignored when legend() is called with no argument.\n"
     ]
    },
    {
     "data": {
      "image/png": "[encoded data removed]",
      "text/plain": [
       "<Figure size 640x480 with 1 Axes>"
      ]
     },
     "metadata": {},
     "output_type": "display_data"
    }
   ],
   "source": [
    "\"\"\"\n",
    "验证函数1: 一元多次方程\n",
    "输入: x序列\n",
    "输出: y序列,k序列\n",
    "\"\"\"\n",
    "def fx_1(x_array):\n",
    "    x, y = sp.symbols('x y')\n",
    "    y = 0.0001 * sp.Pow(x, 4) + 0.02 * sp.Pow(x, 3) + 0.3 * sp.Pow(x, 2) + 2 * x\n",
    "    k = sp.diff(y, x)\n",
    "    \n",
    "    y_res = []\n",
    "    k_res = []\n",
    "    \n",
    "    for i in range(len(x_array)):\n",
    "        y_temp = float(y.evalf(subs={x:x_array[i]}))\n",
    "        k_temp = float(k.evalf(subs={x:x_array[i]}))\n",
    "        y_res.append(y_temp)\n",
    "        k_res.append(k_temp)\n",
    "    \n",
    "    y_res_array = np.array(y_res)\n",
    "    k_res_array = np.array(k_res)\n",
    "    \n",
    "    return y_res_array, k_res_array\n",
    "\n",
    "\n",
    "x_1 = np.arange(0, 10.1, 0.1)\n",
    "y_1, k_1 = fx_1(x_1)\n",
    "\n",
    "\n",
    "# 画图\n",
    "plt.plot(x_1, y_1)\n",
    "plt.legend(loc='best')\n",
    "plt.show()"
   ]
  },
  {
   "cell_type": "code",
   "execution_count": 56,
   "metadata": {},
   "outputs": [
    {
     "name": "stdout",
     "output_type": "stream",
     "text": [
      "[0.0, 1.0, 2.0, 3.0, 4.0, 5.0, 6.0, 7.0, 8.0, 9.0, 10.0] \n",
      " [0.0, 2.3201, 5.3616, 9.248099999999999, 14.105599999999999, 20.0625, 27.2496, 35.8001, 45.8496, 57.5361, 71.0] \n",
      " [2.6604, 3.4432, 4.3508, 5.3856, 6.55, 7.8464, 9.2772, 10.8448, 12.5516] \n",
      " [69.39959652287077, 73.80524927119043, 77.05579082911831, 79.4810962015657, 81.3195815749287, 82.73698068558102, 83.84777642611455, 84.7316489618762, 85.4448029689704]\n",
      "\n",
      " [2.6774066338038565, 3.4643106564341695, 4.372376222855306, 5.40762267732819, 6.572456545132396, 7.869282122184019, 9.30050214342881, 10.868518353912934, 12.584164627458433] \n",
      " [69.51955346030212, 73.89880751854463, 77.11753009790995, 79.52298425984078, 81.34879104398935, 82.75787538293659, 83.86307287875923, 84.74308159340349, 85.45654124670823]\n",
      "[[(0.0, 0.0), (0.0, 0.0), (0.6912587628368985, 1.4924264914131573), (1.0, 2.3201)], [(1.0, 2.3201), (1.3912587628368984, 3.3689864914131573), (1.6893630189842495, 4.28555349776144), (2.0, 5.3616)], [(2.0, 5.3616), (2.389363018984249, 6.7103534977614405), (2.686912622898505, 7.879281987312264), (3.0, 9.248099999999999)], [(3.0, 9.248099999999999), (3.3869126228985054, 10.939681987312262), (3.684393070608032, 12.39905021139175), (4.0, 14.105599999999999)], [(4.0, 14.105599999999999), (4.3843930706080325, 16.184090211391748), (4.682010381237143, 17.972672225490502), (5.0, 20.0625)], [(5.0, 20.0625), (5.382010381237143, 22.573072225490506), (5.67983619870851, 24.730295080397525), (6.0, 27.2496)], [(6.0, 27.2496), (6.37983619870851, 30.238455080397525), (6.677882527490195, 32.80440750565881), (7.0, 35.8001)], [(7.0, 35.8001), (7.377882527490194, 39.31440750565881), (7.676136957247655, 42.32985645136752), (8.0, 45.8496)], [(8.0, 45.8496), (8.376136957247656, 49.93745645136752), (8.674578592995376, 53.443860722635435), (9.0, 57.5361)], [(9.0, 57.5361), (9.374578592995375, 62.24650072263543), (10.0, 71.0), (10.0, 71.0)]]\n"
     ]
    },
    {
     "data": {
      "image/png": "[encoded data removed]",
      "text/plain": [
       "<Figure size 640x480 with 1 Axes>"
      ]
     },
     "metadata": {},
     "output_type": "display_data"
    }
   ],
   "source": [
    "\"\"\"\n",
    "对所有插值点进行预测\n",
    "\"\"\"\n",
    "x_1_sample = []\n",
    "y_1_sample = []\n",
    "k_1_sample = []\n",
    "a_1_sample = []\n",
    "for i in range(0, len(x_1), 10):\n",
    "    x_1_sample.append(x_1[i])\n",
    "    y_1_sample.append(y_1[i])\n",
    "    k_1_sample.append(k_1[i])\n",
    "    a_1_sample.append(np.degrees(np.arctan(k_1[i])))\n",
    "\n",
    "print(x_1_sample, '\\n', y_1_sample, '\\n', k_1_sample[1:-1], '\\n', a_1_sample[1:-1])\n",
    "\n",
    "x_1_sample_curve, y_1_sample_curve, c = smoothing_base_bezier(x_1_sample, y_1_sample, k=0.3)\n",
    "k_1_sample_curve = []\n",
    "a_1_sample_curve = []\n",
    "for i in range(101, len(x_1_sample_curve)-1, 101):\n",
    "    k_1_sample_curve.append(dB(y_1_sample_curve[i+1], y_1_sample_curve[i-1], x_1_sample_curve[i+1], x_1_sample_curve[i-1]))\n",
    "for i in range(len(k_1_sample_curve)):\n",
    "    a_1_sample_curve.append(np.degrees(np.arctan(k_1_sample_curve[i])))\n",
    "print('\\n', k_1_sample_curve, '\\n', a_1_sample_curve)\n",
    "plt.plot(x_1_sample, y_1_sample, 'ro')\n",
    "plt.plot(x_1_sample_curve, y_1_sample_curve)\n",
    "\n",
    "print(c)\n",
    "\n"
   ]
  },
  {
   "cell_type": "code",
   "execution_count": null,
   "metadata": {},
   "outputs": [],
   "source": []
  }
 ],
 "metadata": {
  "kernelspec": {
   "display_name": "bezierpiv",
   "language": "python",
   "name": "python3"
  },
  "language_info": {
   "codemirror_mode": {
    "name": "ipython",
    "version": 3
   },
   "file_extension": ".py",
   "mimetype": "text/x-python",
   "name": "python",
   "nbconvert_exporter": "python",
   "pygments_lexer": "ipython3",
   "version": "3.11.3"
  },
  "orig_nbformat": 4
 },
 "nbformat": 4,
 "nbformat_minor": 2
}

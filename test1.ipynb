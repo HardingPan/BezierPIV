{
 "cells": [
  {
   "attachments": {},
   "cell_type": "markdown",
   "metadata": {},
   "source": [
    "# test1\n",
    "针对bezier插值点数量对曲线切线的影响进行实验"
   ]
  },
  {
   "cell_type": "code",
   "execution_count": 17,
   "metadata": {},
   "outputs": [],
   "source": [
    "import numpy as np\n",
    "import matplotlib.pyplot as plt\n",
    "import sympy as sp\n",
    "import bezier as B"
   ]
  },
  {
   "cell_type": "code",
   "execution_count": 18,
   "metadata": {},
   "outputs": [
    {
     "ename": "ValueError",
     "evalue": "not enough values to unpack (expected 3, got 2)",
     "output_type": "error",
     "traceback": [
      "\u001b[0;31m---------------------------------------------------------------------------\u001b[0m",
      "\u001b[0;31mValueError\u001b[0m                                Traceback (most recent call last)",
      "Cell \u001b[0;32mIn[18], line 8\u001b[0m\n\u001b[1;32m      5\u001b[0m points_x \u001b[39m=\u001b[39m np\u001b[39m.\u001b[39marray([\u001b[39m3\u001b[39m, \u001b[39m1\u001b[39m, \u001b[39m5\u001b[39m, \u001b[39m8\u001b[39m, \u001b[39m6\u001b[39m, \u001b[39m5\u001b[39m, \u001b[39m3\u001b[39m, \u001b[39m4\u001b[39m])\n\u001b[1;32m      6\u001b[0m points_y \u001b[39m=\u001b[39m np\u001b[39m.\u001b[39marray([\u001b[39m7\u001b[39m, \u001b[39m1\u001b[39m, \u001b[39m2\u001b[39m, \u001b[39m5\u001b[39m, \u001b[39m6\u001b[39m, \u001b[39m3\u001b[39m, \u001b[39m3\u001b[39m, \u001b[39m5\u001b[39m])\n\u001b[0;32m----> 8\u001b[0m points_x_curve, points_y_curve, ctr_points \u001b[39m=\u001b[39m B\u001b[39m.\u001b[39msmoothing_base_bezier(points_x, points_y, k\u001b[39m=\u001b[39m\u001b[39m0.3\u001b[39m)\n\u001b[1;32m      9\u001b[0m \u001b[39mprint\u001b[39m(points_x_curve)\n",
      "\u001b[0;31mValueError\u001b[0m: not enough values to unpack (expected 3, got 2)"
     ]
    }
   ],
   "source": [
    "\"\"\"\n",
    "随机点, 多控制点与少控制点精度区别\n",
    "\"\"\"\n",
    "# 随机点设置\n",
    "points_x = np.array([3, 1, 5, 8, 6, 5, 3, 4])\n",
    "points_y = np.array([7, 1, 2, 5, 6, 3, 3, 5])\n",
    "\n",
    "points_x_curve, points_y_curve, ctr_points = B.smoothing_base_bezier(points_x, points_y, k=0.3)\n",
    "print(points_x_curve)\n"
   ]
  }
 ],
 "metadata": {
  "kernelspec": {
   "display_name": "bezierpiv",
   "language": "python",
   "name": "python3"
  },
  "language_info": {
   "codemirror_mode": {
    "name": "ipython",
    "version": 3
   },
   "file_extension": ".py",
   "mimetype": "text/x-python",
   "name": "python",
   "nbconvert_exporter": "python",
   "pygments_lexer": "ipython3",
   "version": "3.11.3"
  },
  "orig_nbformat": 4
 },
 "nbformat": 4,
 "nbformat_minor": 2
}
